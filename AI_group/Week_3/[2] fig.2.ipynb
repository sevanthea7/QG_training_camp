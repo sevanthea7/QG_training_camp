{
 "cells": [
  {
   "cell_type": "code",
   "execution_count": 570,
   "id": "4c12b12e",
   "metadata": {
    "ExecuteTime": {
     "end_time": "2024-04-04T13:47:37.006604500Z",
     "start_time": "2024-04-04T13:47:37.002094300Z"
    }
   },
   "outputs": [],
   "source": [
    "import numpy as np\n",
    "import matplotlib.pyplot as plt\n",
    "import math"
   ]
  },
  {
   "cell_type": "code",
   "outputs": [],
   "source": [
    "def distance( m, n ):\n",
    "    d =  math.sqrt( ( m[0] - n[0] ) ** 2  + ( m[1] - n[1] ) ** 2  )\n",
    "    return d"
   ],
   "metadata": {
    "collapsed": false,
    "ExecuteTime": {
     "end_time": "2024-04-04T13:47:37.014610800Z",
     "start_time": "2024-04-04T13:47:37.010712Z"
    }
   },
   "id": "9bce59ea4555dcb3",
   "execution_count": 571
  },
  {
   "cell_type": "code",
   "outputs": [],
   "source": [
    "def laplace( agents, r, l ):\n",
    "    mat = np.zeros( ( l, l ) )\n",
    "    for i in range( l ):\n",
    "        cnt = 0\n",
    "        for j in range( l ):\n",
    "            if i != j and distance( agents[i], agents[j] ) <= r:\n",
    "                mat[i][j] = 1\n",
    "                cnt += 1\n",
    "        print( cnt )\n",
    "    for i in range( l ):\n",
    "        mat[i][i] = -np.sum( mat[i] )\n",
    "    return mat"
   ],
   "metadata": {
    "collapsed": false,
    "ExecuteTime": {
     "end_time": "2024-04-04T13:47:37.020933300Z",
     "start_time": "2024-04-04T13:47:37.016671800Z"
    }
   },
   "id": "6154794f772bb994",
   "execution_count": 572
  },
  {
   "cell_type": "code",
   "outputs": [],
   "source": [
    "def z_rec( Z, g, mat ):\n",
    "    Z = Z + g * ( mat @ Z )\n",
    "    return Z"
   ],
   "metadata": {
    "collapsed": false,
    "ExecuteTime": {
     "end_time": "2024-04-04T13:47:37.061164200Z",
     "start_time": "2024-04-04T13:47:37.024567100Z"
    }
   },
   "id": "3873585d4c415d3",
   "execution_count": 573
  },
  {
   "cell_type": "code",
   "outputs": [],
   "source": [
    "def f_cal( Z, c ):\n",
    "    f = np.sum( np.abs( Z - c ) )\n",
    "    return f"
   ],
   "metadata": {
    "collapsed": false,
    "ExecuteTime": {
     "end_time": "2024-04-04T13:47:37.061164200Z",
     "start_time": "2024-04-04T13:47:37.028526Z"
    }
   },
   "id": "67d56b87746d38c2",
   "execution_count": 574
  },
  {
   "cell_type": "code",
   "outputs": [],
   "source": [
    "def b_cal( mat, g ):\n",
    "    b = mat + g**2 * np.dot( mat, mat )\n",
    "    return b"
   ],
   "metadata": {
    "collapsed": false,
    "ExecuteTime": {
     "end_time": "2024-04-04T13:47:37.062161Z",
     "start_time": "2024-04-04T13:47:37.035514600Z"
    }
   },
   "id": "36b25b36d5b78452",
   "execution_count": 575
  },
  {
   "cell_type": "code",
   "outputs": [
    {
     "name": "stdout",
     "output_type": "stream",
     "text": [
      "1\n",
      "3\n",
      "1\n",
      "1\n",
      "5\n",
      "5\n",
      "2\n",
      "2\n",
      "5\n",
      "1\n",
      "[[-1.  1.  0.  0.  0.  0.  0.  0.  0.  0.]\n",
      " [ 1. -3.  0.  0.  1.  1.  0.  0.  0.  0.]\n",
      " [ 0.  0. -1.  0.  1.  0.  0.  0.  0.  0.]\n",
      " [ 0.  0.  0. -1.  0.  1.  0.  0.  0.  0.]\n",
      " [ 0.  1.  1.  0. -5.  1.  1.  0.  1.  0.]\n",
      " [ 0.  1.  0.  1.  1. -5.  0.  1.  1.  0.]\n",
      " [ 0.  0.  0.  0.  1.  0. -2.  0.  1.  0.]\n",
      " [ 0.  0.  0.  0.  0.  1.  0. -2.  1.  0.]\n",
      " [ 0.  0.  0.  0.  1.  1.  1.  1. -5.  1.]\n",
      " [ 0.  0.  0.  0.  0.  0.  0.  0.  1. -1.]]\n"
     ]
    }
   ],
   "source": [
    "agents = np.array( [[ 0, 0.5 ],\n",
    "                    [ 0, 1 ],\n",
    "                    [ -1.2, 1 ], \n",
    "                    [ 1.2, 1 ], \n",
    "                    [ -0.5, 1.5 ],\n",
    "                    [ 0.5, 1.5 ],\n",
    "                    [ -0.7, 2 ],\n",
    "                    [ 0.5, 2 ],\n",
    "                    [ 0, 2.2 ],\n",
    "                    [ 0, 3 ]] )\n",
    "l = len( agents )\n",
    "c = np.round( np.mean( agents, axis = 0, dtype = np.float64 ), decimals=2 )\n",
    "r = 1\n",
    "mat = laplace( agents, r, l )\n",
    "print( mat )"
   ],
   "metadata": {
    "collapsed": false,
    "ExecuteTime": {
     "end_time": "2024-04-04T13:47:37.062161Z",
     "start_time": "2024-04-04T13:47:37.040768300Z"
    }
   },
   "id": "42f3286a141f9d65",
   "execution_count": 576
  },
  {
   "cell_type": "code",
   "outputs": [
    {
     "name": "stdout",
     "output_type": "stream",
     "text": [
      "[[ 0.   0.5]\n",
      " [ 0.   1. ]\n",
      " [-1.2  1. ]\n",
      " [ 1.2  1. ]\n",
      " [-0.5  1.5]\n",
      " [ 0.5  1.5]\n",
      " [-0.7  2. ]\n",
      " [ 0.5  2. ]\n",
      " [ 0.   2.2]\n",
      " [ 0.   3. ]]\n",
      "[[ 0.   0.5]\n",
      " [ 0.   1. ]\n",
      " [-1.2  1. ]\n",
      " [ 1.2  1. ]\n",
      " [-0.5  1.5]\n",
      " [ 0.5  1.5]\n",
      " [-0.7  2. ]\n",
      " [ 0.5  2. ]\n",
      " [ 0.   2.2]\n",
      " [ 0.   3. ]]\n",
      "[[ 0.   0.5]\n",
      " [ 0.   1. ]\n",
      " [-1.2  1. ]\n",
      " [ 1.2  1. ]\n",
      " [-0.5  1.5]\n",
      " [ 0.5  1.5]\n",
      " [-0.7  2. ]\n",
      " [ 0.5  2. ]\n",
      " [ 0.   2.2]\n",
      " [ 0.   3. ]]\n"
     ]
    },
    {
     "data": {
      "text/plain": "<Figure size 640x480 with 1 Axes>",
      "image/png": "[encoded data removed]"
     },
     "metadata": {},
     "output_type": "display_data"
    }
   ],
   "source": [
    "Z_1 = np.array( agents )\n",
    "print( Z_1 )\n",
    "g_1 = 0.1\n",
    "p_1 = []\n",
    "for k in range(100):\n",
    "    Z_1 = z_rec( Z_1, g_1, mat )\n",
    "    p_1.append( f_cal( Z_1, c ) )\n",
    "Z_2 = np.array( agents )\n",
    "print( Z_2 )\n",
    "g_2 = 0.2\n",
    "p_2 = []\n",
    "for k in range(100):\n",
    "    Z_2 = z_rec( Z_2, g_2, mat )\n",
    "    p_2.append( f_cal( Z_2, c ) )\n",
    "Z_3 = np.array( agents )\n",
    "print( Z_3 )\n",
    "g_3 = 0.3\n",
    "p_3 = []\n",
    "for k in range(100):\n",
    "    Z_3 = z_rec( Z_3, g_3, mat )\n",
    "    p_3.append( f_cal( Z_3, c ) )\n",
    "    \n",
    "iter = range( 0, 100 )\n",
    "plt.plot( iter, p_1, label = 'gamma = 0.1', linestyle = '-' )\n",
    "plt.plot( iter, p_2, label = 'gamma = 0.2', linestyle = '-' )\n",
    "plt.plot( iter, p_3, label = 'gamma = 0.21', linestyle = '-' )\n",
    "\n",
    "plt.xlabel( 'k' )\n",
    "plt.ylabel( 'f(k)' )\n",
    "plt.legend()\n",
    "plt.show()"
   ],
   "metadata": {
    "collapsed": false,
    "ExecuteTime": {
     "end_time": "2024-04-04T13:47:37.185167600Z",
     "start_time": "2024-04-04T13:47:37.051655100Z"
    }
   },
   "id": "5f2ede32cd0047d9",
   "execution_count": 577
  }
 ],
 "metadata": {
  "kernelspec": {
   "display_name": "Python 3 (ipykernel)",
   "language": "python",
   "name": "python3"
  },
  "language_info": {
   "codemirror_mode": {
    "name": "ipython",
    "version": 3
   },
   "file_extension": ".py",
   "mimetype": "text/x-python",
   "name": "python",
   "nbconvert_exporter": "python",
   "pygments_lexer": "ipython3",
   "version": "3.11.5"
  }
 },
 "nbformat": 4,
 "nbformat_minor": 5
}
